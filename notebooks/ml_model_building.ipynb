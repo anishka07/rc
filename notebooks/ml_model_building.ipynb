{
 "cells": [
  {
   "cell_type": "code",
   "execution_count": 1,
   "metadata": {},
   "outputs": [],
   "source": [
    "import os\n",
    "from typing import Tuple, List\n",
    "\n",
    "notebook_dir = os.path.abspath(os.getcwd())\n",
    "project_root = os.path.dirname(notebook_dir)\n",
    "\n",
    "csv_path = os.path.join(project_root, \"data/processed/processed_resume.csv\")"
   ]
  },
  {
   "cell_type": "code",
   "execution_count": 70,
   "metadata": {},
   "outputs": [],
   "source": [
    "import pandas as pd\n",
    "import numpy as np \n",
    "import pickle\n",
    "\n",
    "from sklearn.model_selection import train_test_split\n",
    "from sklearn.naive_bayes import GaussianNB, MultinomialNB, BernoulliNB\n",
    "from sklearn.feature_extraction.text import CountVectorizer, TfidfVectorizer\n",
    "from sklearn.metrics import accuracy_score, precision_score"
   ]
  },
  {
   "cell_type": "code",
   "execution_count": 3,
   "metadata": {},
   "outputs": [
    {
     "data": {
      "text/plain": [
       "Unnamed: 0    0\n",
       "category      0\n",
       "resume        0\n",
       "word_count    0\n",
       "dtype: int64"
      ]
     },
     "execution_count": 3,
     "metadata": {},
     "output_type": "execute_result"
    }
   ],
   "source": [
    "df = pd.read_csv(csv_path)\n",
    "df.isna().sum()"
   ]
  },
  {
   "cell_type": "code",
   "execution_count": 4,
   "metadata": {},
   "outputs": [
    {
     "data": {
      "text/html": [
       "<div>\n",
       "<style scoped>\n",
       "    .dataframe tbody tr th:only-of-type {\n",
       "        vertical-align: middle;\n",
       "    }\n",
       "\n",
       "    .dataframe tbody tr th {\n",
       "        vertical-align: top;\n",
       "    }\n",
       "\n",
       "    .dataframe thead th {\n",
       "        text-align: right;\n",
       "    }\n",
       "</style>\n",
       "<table border=\"1\" class=\"dataframe\">\n",
       "  <thead>\n",
       "    <tr style=\"text-align: right;\">\n",
       "      <th></th>\n",
       "      <th>Unnamed: 0</th>\n",
       "      <th>category</th>\n",
       "      <th>resume</th>\n",
       "      <th>word_count</th>\n",
       "    </tr>\n",
       "  </thead>\n",
       "  <tbody>\n",
       "    <tr>\n",
       "      <th>0</th>\n",
       "      <td>0</td>\n",
       "      <td>6</td>\n",
       "      <td>skills programming languages python pandas num...</td>\n",
       "      <td>615</td>\n",
       "    </tr>\n",
       "    <tr>\n",
       "      <th>1</th>\n",
       "      <td>1</td>\n",
       "      <td>6</td>\n",
       "      <td>education details may 2013 to may 2017 data sc...</td>\n",
       "      <td>136</td>\n",
       "    </tr>\n",
       "    <tr>\n",
       "      <th>2</th>\n",
       "      <td>2</td>\n",
       "      <td>6</td>\n",
       "      <td>areas of interest deep learning control system...</td>\n",
       "      <td>234</td>\n",
       "    </tr>\n",
       "    <tr>\n",
       "      <th>3</th>\n",
       "      <td>3</td>\n",
       "      <td>6</td>\n",
       "      <td>skills r python sap hana tableau sap hana sql ...</td>\n",
       "      <td>904</td>\n",
       "    </tr>\n",
       "    <tr>\n",
       "      <th>4</th>\n",
       "      <td>4</td>\n",
       "      <td>6</td>\n",
       "      <td>education details mca ymcaust faridabad haryan...</td>\n",
       "      <td>55</td>\n",
       "    </tr>\n",
       "  </tbody>\n",
       "</table>\n",
       "</div>"
      ],
      "text/plain": [
       "   Unnamed: 0  category                                             resume  \\\n",
       "0           0         6  skills programming languages python pandas num...   \n",
       "1           1         6  education details may 2013 to may 2017 data sc...   \n",
       "2           2         6  areas of interest deep learning control system...   \n",
       "3           3         6  skills r python sap hana tableau sap hana sql ...   \n",
       "4           4         6  education details mca ymcaust faridabad haryan...   \n",
       "\n",
       "   word_count  \n",
       "0         615  \n",
       "1         136  \n",
       "2         234  \n",
       "3         904  \n",
       "4          55  "
      ]
     },
     "execution_count": 4,
     "metadata": {},
     "output_type": "execute_result"
    }
   ],
   "source": [
    "df.head()"
   ]
  },
  {
   "cell_type": "code",
   "execution_count": 5,
   "metadata": {},
   "outputs": [
    {
     "data": {
      "text/html": [
       "<div>\n",
       "<style scoped>\n",
       "    .dataframe tbody tr th:only-of-type {\n",
       "        vertical-align: middle;\n",
       "    }\n",
       "\n",
       "    .dataframe tbody tr th {\n",
       "        vertical-align: top;\n",
       "    }\n",
       "\n",
       "    .dataframe thead th {\n",
       "        text-align: right;\n",
       "    }\n",
       "</style>\n",
       "<table border=\"1\" class=\"dataframe\">\n",
       "  <thead>\n",
       "    <tr style=\"text-align: right;\">\n",
       "      <th></th>\n",
       "      <th>category</th>\n",
       "      <th>resume</th>\n",
       "      <th>word_count</th>\n",
       "    </tr>\n",
       "  </thead>\n",
       "  <tbody>\n",
       "    <tr>\n",
       "      <th>0</th>\n",
       "      <td>6</td>\n",
       "      <td>skills programming languages python pandas num...</td>\n",
       "      <td>615</td>\n",
       "    </tr>\n",
       "    <tr>\n",
       "      <th>1</th>\n",
       "      <td>6</td>\n",
       "      <td>education details may 2013 to may 2017 data sc...</td>\n",
       "      <td>136</td>\n",
       "    </tr>\n",
       "    <tr>\n",
       "      <th>2</th>\n",
       "      <td>6</td>\n",
       "      <td>areas of interest deep learning control system...</td>\n",
       "      <td>234</td>\n",
       "    </tr>\n",
       "    <tr>\n",
       "      <th>3</th>\n",
       "      <td>6</td>\n",
       "      <td>skills r python sap hana tableau sap hana sql ...</td>\n",
       "      <td>904</td>\n",
       "    </tr>\n",
       "    <tr>\n",
       "      <th>4</th>\n",
       "      <td>6</td>\n",
       "      <td>education details mca ymcaust faridabad haryan...</td>\n",
       "      <td>55</td>\n",
       "    </tr>\n",
       "  </tbody>\n",
       "</table>\n",
       "</div>"
      ],
      "text/plain": [
       "   category                                             resume  word_count\n",
       "0         6  skills programming languages python pandas num...         615\n",
       "1         6  education details may 2013 to may 2017 data sc...         136\n",
       "2         6  areas of interest deep learning control system...         234\n",
       "3         6  skills r python sap hana tableau sap hana sql ...         904\n",
       "4         6  education details mca ymcaust faridabad haryan...          55"
      ]
     },
     "execution_count": 5,
     "metadata": {},
     "output_type": "execute_result"
    }
   ],
   "source": [
    "df = df.drop(columns=[\"Unnamed: 0\"])\n",
    "df.head()"
   ]
  },
  {
   "cell_type": "code",
   "execution_count": 18,
   "metadata": {},
   "outputs": [
    {
     "data": {
      "text/plain": [
       "((962, 7272), (962, 7062))"
      ]
     },
     "execution_count": 18,
     "metadata": {},
     "output_type": "execute_result"
    }
   ],
   "source": [
    "vectorizer_1 = CountVectorizer()\n",
    "X_one = vectorizer_1.fit_transform(df[\"resume\"]).toarray()\n",
    "\n",
    "vectorizer_2 = TfidfVectorizer(stop_words=\"english\")\n",
    "X_two = vectorizer_2.fit_transform(df[\"resume\"]).toarray()\n",
    "\n",
    "X_one.shape, X_two.shape"
   ]
  },
  {
   "cell_type": "code",
   "execution_count": 19,
   "metadata": {},
   "outputs": [],
   "source": [
    "X_train_one, X_test_one, y_train_one, y_test_one = train_test_split(X_one, df[\"category\"].values, test_size=0.33)"
   ]
  },
  {
   "cell_type": "code",
   "execution_count": 20,
   "metadata": {},
   "outputs": [],
   "source": [
    "X_train_two, X_test_two, y_train_two, y_test_two = train_test_split(X_one, df[\"category\"].values, test_size=0.33)"
   ]
  },
  {
   "cell_type": "code",
   "execution_count": 21,
   "metadata": {},
   "outputs": [],
   "source": [
    "gnb = GaussianNB()\n",
    "mnb = MultinomialNB()\n",
    "bnb = BernoulliNB()"
   ]
  },
  {
   "cell_type": "code",
   "execution_count": 28,
   "metadata": {},
   "outputs": [
    {
     "name": "stdout",
     "output_type": "stream",
     "text": [
      "The accuracy score for count vectorized data is:  96.86\n",
      "The precision score for count vectorized data is:  97.43\n",
      "The accuracy score for tfidf vectorized data is:  99.69\n",
      "The precision score for tfidf vectorized data is:  99.71\n"
     ]
    }
   ],
   "source": [
    "## for gnb\n",
    "\n",
    "model = gnb.fit(X_train_one, y_train_one)\n",
    "y_hat_one = model.predict(X_test_one)\n",
    "print(\"The accuracy score for count vectorized data is: \", round(accuracy_score(y_test_one, y_hat_one) * 100, 2))\n",
    "print(\"The precision score for count vectorized data is: \", round(precision_score(y_test_one, y_hat_one, average='weighted') * 100, 2))\n",
    "\n",
    "model = gnb.fit(X_train_two, y_train_two)\n",
    "y_hat_two = model.predict(X_test_two)\n",
    "print(\"The accuracy score for tfidf vectorized data is: \", round(accuracy_score(y_test_two, y_hat_two) * 100, 2))\n",
    "print(\"The precision score for tfidf vectorized data is: \", round(precision_score(y_test_two, y_hat_two, average='weighted') * 100, 2))"
   ]
  },
  {
   "cell_type": "code",
   "execution_count": 29,
   "metadata": {},
   "outputs": [
    {
     "name": "stdout",
     "output_type": "stream",
     "text": [
      "The accuracy score for count vectorized data is:  96.86\n",
      "The precision score for count vectorized data is:  97.57\n",
      "The accuracy score for tfidf vectorized data is:  96.23\n",
      "The precision score for tfidf vectorized data is:  96.86\n"
     ]
    }
   ],
   "source": [
    "## for mnb\n",
    "\n",
    "model = mnb.fit(X_train_one, y_train_one)\n",
    "y_hat_one = model.predict(X_test_one)\n",
    "print(\"The accuracy score for count vectorized data is: \", round(accuracy_score(y_test_one, y_hat_one) * 100, 2))\n",
    "print(\"The precision score for count vectorized data is: \", round(precision_score(y_test_one, y_hat_one, average='weighted') * 100, 2))\n",
    "\n",
    "model = mnb.fit(X_train_two, y_train_two)\n",
    "y_hat_two = model.predict(X_test_two)\n",
    "print(\"The accuracy score for tfidf vectorized data is: \", round(accuracy_score(y_test_two, y_hat_two) * 100, 2))\n",
    "print(\"The precision score for tfidf vectorized data is: \", round(precision_score(y_test_two, y_hat_two, average='weighted') * 100, 2))"
   ]
  },
  {
   "cell_type": "code",
   "execution_count": 30,
   "metadata": {},
   "outputs": [
    {
     "name": "stdout",
     "output_type": "stream",
     "text": [
      "The accuracy score for count vectorized data is:  71.38\n",
      "The precision score for count vectorized data is:  86.53\n",
      "The accuracy score for tfidf vectorized data is:  65.72\n",
      "The precision score for tfidf vectorized data is:  88.1\n"
     ]
    },
    {
     "name": "stderr",
     "output_type": "stream",
     "text": [
      "/opt/anaconda3/envs/nlp/lib/python3.12/site-packages/sklearn/metrics/_classification.py:1531: UndefinedMetricWarning: Precision is ill-defined and being set to 0.0 in labels with no predicted samples. Use `zero_division` parameter to control this behavior.\n",
      "  _warn_prf(average, modifier, f\"{metric.capitalize()} is\", len(result))\n",
      "/opt/anaconda3/envs/nlp/lib/python3.12/site-packages/sklearn/metrics/_classification.py:1531: UndefinedMetricWarning: Precision is ill-defined and being set to 0.0 in labels with no predicted samples. Use `zero_division` parameter to control this behavior.\n",
      "  _warn_prf(average, modifier, f\"{metric.capitalize()} is\", len(result))\n"
     ]
    }
   ],
   "source": [
    "## for bnb\n",
    "\n",
    "model = bnb.fit(X_train_one, y_train_one)\n",
    "y_hat_one = model.predict(X_test_one)\n",
    "print(\"The accuracy score for count vectorized data is: \", round(accuracy_score(y_test_one, y_hat_one) * 100, 2))\n",
    "print(\"The precision score for count vectorized data is: \", round(precision_score(y_test_one, y_hat_one, average='weighted') * 100, 2))\n",
    "\n",
    "model = bnb.fit(X_train_two, y_train_two)\n",
    "y_hat_two = model.predict(X_test_two)\n",
    "print(\"The accuracy score for tfidf vectorized data is: \", round(accuracy_score(y_test_two, y_hat_two) * 100, 2))\n",
    "print(\"The precision score for tfidf vectorized data is: \", round(precision_score(y_test_two, y_hat_two, average='weighted') * 100, 2))"
   ]
  },
  {
   "cell_type": "markdown",
   "metadata": {},
   "source": [
    "## Let's now check the accuracy and the precision score for other machine learning algorithms."
   ]
  },
  {
   "cell_type": "code",
   "execution_count": 37,
   "metadata": {},
   "outputs": [],
   "source": [
    "from sklearn.linear_model import LogisticRegression\n",
    "from sklearn.svm import SVC\n",
    "from sklearn.tree import DecisionTreeClassifier\n",
    "from sklearn.neighbors import KNeighborsClassifier\n",
    "from sklearn.ensemble import RandomForestClassifier\n",
    "from sklearn.ensemble import AdaBoostClassifier\n",
    "from sklearn.ensemble import BaggingClassifier\n",
    "from sklearn.ensemble import ExtraTreesClassifier\n",
    "from sklearn.ensemble import GradientBoostingClassifier"
   ]
  },
  {
   "cell_type": "code",
   "execution_count": 38,
   "metadata": {},
   "outputs": [],
   "source": [
    "svc = SVC(kernel='sigmoid', gamma=1.0)\n",
    "knc = KNeighborsClassifier()\n",
    "dtc = DecisionTreeClassifier(max_depth=5)\n",
    "lrc = LogisticRegression(solver='liblinear', penalty='l1')\n",
    "rfc = RandomForestClassifier(n_estimators=50, random_state=2)\n",
    "abc = AdaBoostClassifier(n_estimators=50, random_state=2)\n",
    "bc = BaggingClassifier(n_estimators=50, random_state=2)\n",
    "etc = ExtraTreesClassifier(n_estimators=50, random_state=2)\n",
    "gbdt = GradientBoostingClassifier(n_estimators=50,random_state=2)"
   ]
  },
  {
   "cell_type": "code",
   "execution_count": 39,
   "metadata": {},
   "outputs": [],
   "source": [
    "clfs = {\n",
    "    'SVC' : svc,\n",
    "    'KN' : knc, \n",
    "    'DT': dtc, \n",
    "    'LR': lrc, \n",
    "    'RF': rfc, \n",
    "    'AdaBoost': abc, \n",
    "    'BgC': bc, \n",
    "    'ETC': etc,\n",
    "    'GBDT':gbdt,\n",
    "}"
   ]
  },
  {
   "cell_type": "code",
   "execution_count": 58,
   "metadata": {},
   "outputs": [],
   "source": [
    "def train_classifier(clf, X_train, y_train, X_test, y_test) -> tuple[float, float]:\n",
    "    clf.fit(X_train, y_train)\n",
    "    y_hat = clf.predict(X_test)\n",
    "    accuracy = accuracy_score(y_test, y_hat) * 100\n",
    "    precision = precision_score(y_test, y_hat, average=\"weighted\") * 100\n",
    "    return float(accuracy), float(precision)"
   ]
  },
  {
   "cell_type": "code",
   "execution_count": 59,
   "metadata": {},
   "outputs": [
    {
     "data": {
      "text/plain": [
       "(96.22641509433963, 96.85558235210668)"
      ]
     },
     "execution_count": 59,
     "metadata": {},
     "output_type": "execute_result"
    }
   ],
   "source": [
    "##test \n",
    "score_acc, score_prec = train_classifier(clf=mnb, X_train=X_train_two, y_train=y_train_two, X_test=X_test_two, y_test=y_test_two)\n",
    "score_acc, score_prec"
   ]
  },
  {
   "cell_type": "code",
   "execution_count": 66,
   "metadata": {},
   "outputs": [],
   "source": [
    "from typing import Any\n",
    "\n",
    "\n",
    "def clf_metric_calculator(Xtrain, ytrain, Xtest, ytest) -> tuple[Any, Any]:\n",
    "    accuracy_scores = []\n",
    "    precision_scores = []\n",
    "\n",
    "    for algo, clf in clfs.items():\n",
    "        current_acc, current_prec = train_classifier(clf, Xtrain, ytrain, Xtest, ytest)\n",
    "        accuracy_scores.append(current_acc)\n",
    "        precision_scores.append(current_prec)\n",
    "    return accuracy_scores, precision_scores"
   ]
  },
  {
   "cell_type": "code",
   "execution_count": 65,
   "metadata": {},
   "outputs": [
    {
     "name": "stderr",
     "output_type": "stream",
     "text": [
      "/opt/anaconda3/envs/nlp/lib/python3.12/site-packages/sklearn/metrics/_classification.py:1531: UndefinedMetricWarning: Precision is ill-defined and being set to 0.0 in labels with no predicted samples. Use `zero_division` parameter to control this behavior.\n",
      "  _warn_prf(average, modifier, f\"{metric.capitalize()} is\", len(result))\n",
      "/opt/anaconda3/envs/nlp/lib/python3.12/site-packages/sklearn/metrics/_classification.py:1531: UndefinedMetricWarning: Precision is ill-defined and being set to 0.0 in labels with no predicted samples. Use `zero_division` parameter to control this behavior.\n",
      "  _warn_prf(average, modifier, f\"{metric.capitalize()} is\", len(result))\n",
      "/opt/anaconda3/envs/nlp/lib/python3.12/site-packages/sklearn/ensemble/_weight_boosting.py:527: FutureWarning: The SAMME.R algorithm (the default) is deprecated and will be removed in 1.6. Use the SAMME algorithm to circumvent this warning.\n",
      "  warnings.warn(\n",
      "/opt/anaconda3/envs/nlp/lib/python3.12/site-packages/sklearn/metrics/_classification.py:1531: UndefinedMetricWarning: Precision is ill-defined and being set to 0.0 in labels with no predicted samples. Use `zero_division` parameter to control this behavior.\n",
      "  _warn_prf(average, modifier, f\"{metric.capitalize()} is\", len(result))\n"
     ]
    }
   ],
   "source": [
    "# For count vectorized data\n",
    "accuracy_scores_cv, precision_scores_cv = clf_metric_calculator(\n",
    "    Xtrain=X_train_one,\n",
    "    ytrain=y_train_one,\n",
    "    Xtest=X_test_one,\n",
    "    ytest=y_test_one\n",
    ")"
   ]
  },
  {
   "cell_type": "code",
   "execution_count": 68,
   "metadata": {},
   "outputs": [],
   "source": [
    "import warnings\n",
    "warnings.filterwarnings(\"ignore\")\n",
    "\n",
    "## For tf-idf vectorized data\n",
    "accuracy_scores_tfidf, precision_scores_tfidf = clf_metric_calculator(\n",
    "    Xtrain=X_train_two,\n",
    "    ytrain=y_train_two,\n",
    "    Xtest=X_test_two,\n",
    "    ytest=y_test_two\n",
    ")"
   ]
  },
  {
   "cell_type": "code",
   "execution_count": 67,
   "metadata": {},
   "outputs": [
    {
     "data": {
      "text/html": [
       "<div>\n",
       "<style scoped>\n",
       "    .dataframe tbody tr th:only-of-type {\n",
       "        vertical-align: middle;\n",
       "    }\n",
       "\n",
       "    .dataframe tbody tr th {\n",
       "        vertical-align: top;\n",
       "    }\n",
       "\n",
       "    .dataframe thead th {\n",
       "        text-align: right;\n",
       "    }\n",
       "</style>\n",
       "<table border=\"1\" class=\"dataframe\">\n",
       "  <thead>\n",
       "    <tr style=\"text-align: right;\">\n",
       "      <th></th>\n",
       "      <th>Algorithm</th>\n",
       "      <th>Accuracy</th>\n",
       "      <th>Precision</th>\n",
       "    </tr>\n",
       "  </thead>\n",
       "  <tbody>\n",
       "    <tr>\n",
       "      <th>0</th>\n",
       "      <td>SVC</td>\n",
       "      <td>10.377358</td>\n",
       "      <td>1.076896</td>\n",
       "    </tr>\n",
       "    <tr>\n",
       "      <th>5</th>\n",
       "      <td>AdaBoost</td>\n",
       "      <td>19.811321</td>\n",
       "      <td>10.577829</td>\n",
       "    </tr>\n",
       "    <tr>\n",
       "      <th>2</th>\n",
       "      <td>DT</td>\n",
       "      <td>38.050314</td>\n",
       "      <td>43.645937</td>\n",
       "    </tr>\n",
       "    <tr>\n",
       "      <th>1</th>\n",
       "      <td>KN</td>\n",
       "      <td>81.446541</td>\n",
       "      <td>87.988458</td>\n",
       "    </tr>\n",
       "    <tr>\n",
       "      <th>7</th>\n",
       "      <td>ETC</td>\n",
       "      <td>98.742138</td>\n",
       "      <td>99.245283</td>\n",
       "    </tr>\n",
       "    <tr>\n",
       "      <th>6</th>\n",
       "      <td>BgC</td>\n",
       "      <td>99.371069</td>\n",
       "      <td>99.425759</td>\n",
       "    </tr>\n",
       "    <tr>\n",
       "      <th>3</th>\n",
       "      <td>LR</td>\n",
       "      <td>100.000000</td>\n",
       "      <td>100.000000</td>\n",
       "    </tr>\n",
       "    <tr>\n",
       "      <th>4</th>\n",
       "      <td>RF</td>\n",
       "      <td>100.000000</td>\n",
       "      <td>100.000000</td>\n",
       "    </tr>\n",
       "    <tr>\n",
       "      <th>8</th>\n",
       "      <td>GBDT</td>\n",
       "      <td>100.000000</td>\n",
       "      <td>100.000000</td>\n",
       "    </tr>\n",
       "  </tbody>\n",
       "</table>\n",
       "</div>"
      ],
      "text/plain": [
       "  Algorithm    Accuracy   Precision\n",
       "0       SVC   10.377358    1.076896\n",
       "5  AdaBoost   19.811321   10.577829\n",
       "2        DT   38.050314   43.645937\n",
       "1        KN   81.446541   87.988458\n",
       "7       ETC   98.742138   99.245283\n",
       "6       BgC   99.371069   99.425759\n",
       "3        LR  100.000000  100.000000\n",
       "4        RF  100.000000  100.000000\n",
       "8      GBDT  100.000000  100.000000"
      ]
     },
     "execution_count": 67,
     "metadata": {},
     "output_type": "execute_result"
    }
   ],
   "source": [
    "performance_df_cv = pd.DataFrame({'Algorithm':clfs.keys(),'Accuracy':accuracy_scores_cv, \"Precision\":precision_scores_cv}).sort_values('Precision',ascending=True)\n",
    "performance_df_cv"
   ]
  },
  {
   "cell_type": "code",
   "execution_count": 69,
   "metadata": {},
   "outputs": [
    {
     "data": {
      "text/html": [
       "<div>\n",
       "<style scoped>\n",
       "    .dataframe tbody tr th:only-of-type {\n",
       "        vertical-align: middle;\n",
       "    }\n",
       "\n",
       "    .dataframe tbody tr th {\n",
       "        vertical-align: top;\n",
       "    }\n",
       "\n",
       "    .dataframe thead th {\n",
       "        text-align: right;\n",
       "    }\n",
       "</style>\n",
       "<table border=\"1\" class=\"dataframe\">\n",
       "  <thead>\n",
       "    <tr style=\"text-align: right;\">\n",
       "      <th></th>\n",
       "      <th>Algorithm</th>\n",
       "      <th>Accuracy</th>\n",
       "      <th>Precision</th>\n",
       "    </tr>\n",
       "  </thead>\n",
       "  <tbody>\n",
       "    <tr>\n",
       "      <th>0</th>\n",
       "      <td>SVC</td>\n",
       "      <td>10.377358</td>\n",
       "      <td>1.076896</td>\n",
       "    </tr>\n",
       "    <tr>\n",
       "      <th>5</th>\n",
       "      <td>AdaBoost</td>\n",
       "      <td>24.842767</td>\n",
       "      <td>17.739977</td>\n",
       "    </tr>\n",
       "    <tr>\n",
       "      <th>2</th>\n",
       "      <td>DT</td>\n",
       "      <td>34.591195</td>\n",
       "      <td>36.063649</td>\n",
       "    </tr>\n",
       "    <tr>\n",
       "      <th>1</th>\n",
       "      <td>KN</td>\n",
       "      <td>85.849057</td>\n",
       "      <td>88.859775</td>\n",
       "    </tr>\n",
       "    <tr>\n",
       "      <th>4</th>\n",
       "      <td>RF</td>\n",
       "      <td>99.056604</td>\n",
       "      <td>99.184809</td>\n",
       "    </tr>\n",
       "    <tr>\n",
       "      <th>3</th>\n",
       "      <td>LR</td>\n",
       "      <td>99.685535</td>\n",
       "      <td>99.716981</td>\n",
       "    </tr>\n",
       "    <tr>\n",
       "      <th>7</th>\n",
       "      <td>ETC</td>\n",
       "      <td>99.685535</td>\n",
       "      <td>99.716981</td>\n",
       "    </tr>\n",
       "    <tr>\n",
       "      <th>8</th>\n",
       "      <td>GBDT</td>\n",
       "      <td>99.685535</td>\n",
       "      <td>99.737945</td>\n",
       "    </tr>\n",
       "    <tr>\n",
       "      <th>6</th>\n",
       "      <td>BgC</td>\n",
       "      <td>100.000000</td>\n",
       "      <td>100.000000</td>\n",
       "    </tr>\n",
       "  </tbody>\n",
       "</table>\n",
       "</div>"
      ],
      "text/plain": [
       "  Algorithm    Accuracy   Precision\n",
       "0       SVC   10.377358    1.076896\n",
       "5  AdaBoost   24.842767   17.739977\n",
       "2        DT   34.591195   36.063649\n",
       "1        KN   85.849057   88.859775\n",
       "4        RF   99.056604   99.184809\n",
       "3        LR   99.685535   99.716981\n",
       "7       ETC   99.685535   99.716981\n",
       "8      GBDT   99.685535   99.737945\n",
       "6       BgC  100.000000  100.000000"
      ]
     },
     "execution_count": 69,
     "metadata": {},
     "output_type": "execute_result"
    }
   ],
   "source": [
    "performance_df_tfidf = pd.DataFrame({'Algorithm':clfs.keys(), \"Accuracy\":accuracy_scores_tfidf, \"Precision\":precision_scores_tfidf}).sort_values('Precision', ascending=True)\n",
    "performance_df_tfidf"
   ]
  },
  {
   "cell_type": "code",
   "execution_count": 76,
   "metadata": {},
   "outputs": [],
   "source": [
    "model_dir = os.path.join(project_root, \"models\")\n",
    "model = os.path.join(model_dir, \"model.pkl\")\n",
    "vectorizer = os.path.join(model_dir, \"vectorizer.pkl\")\n",
    "\n",
    "pickle.dump(lrc, open(model, \"wb\"))\n",
    "pickle.dump(vectorizer_1, open(vectorizer, \"wb\"))"
   ]
  },
  {
   "cell_type": "code",
   "execution_count": null,
   "metadata": {},
   "outputs": [],
   "source": []
  },
  {
   "cell_type": "code",
   "execution_count": null,
   "metadata": {},
   "outputs": [],
   "source": []
  }
 ],
 "metadata": {
  "kernelspec": {
   "display_name": "nlp",
   "language": "python",
   "name": "python3"
  },
  "language_info": {
   "codemirror_mode": {
    "name": "ipython",
    "version": 3
   },
   "file_extension": ".py",
   "mimetype": "text/x-python",
   "name": "python",
   "nbconvert_exporter": "python",
   "pygments_lexer": "ipython3",
   "version": "3.12.4"
  }
 },
 "nbformat": 4,
 "nbformat_minor": 2
}
